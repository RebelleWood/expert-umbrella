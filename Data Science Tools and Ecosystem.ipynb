{
  "metadata": {
    "language_info": {
      "codemirror_mode": {
        "name": "python",
        "version": 3
      },
      "file_extension": ".py",
      "mimetype": "text/x-python",
      "name": "python",
      "nbconvert_exporter": "python",
      "pygments_lexer": "ipython3",
      "version": "3.8"
    },
    "kernelspec": {
      "name": "python",
      "display_name": "Python (Pyodide)",
      "language": "python"
    }
  },
  "nbformat_minor": 4,
  "nbformat": 4,
  "cells": [
    {
      "cell_type": "markdown",
      "source": "# Data Science Tools and Ecosystems\n",
      "metadata": {}
    },
    {
      "cell_type": "markdown",
      "source": "## Introduction\n\nThis notebook will cover various data science topics, including programming languages, libraries, and tools, as well as arithmetic expressions and their examples.\n",
      "metadata": {}
    },
    {
      "cell_type": "markdown",
      "source": "## Data Science Languages\n\n1. Python\n2. R\n3. SQL\n4. MATLAB\n5. Julia\n",
      "metadata": {}
    },
    {
      "cell_type": "markdown",
      "source": "## Data Science Libraries\n\n1. NumPy\n2. Pandas\n3. Matplotlib\n4. Seaborn\n5. Scikit-learn\n",
      "metadata": {}
    },
    {
      "cell_type": "markdown",
      "source": "## Data Science Tools\n\n| Tool | Description |\n| --- | --- |\n| Jupyter Notebook | An open-source web application for creating and sharing documents that contain live code, equations, visualizations, and narrative text. |\n| TensorFlow | An open-source machine learning framework developed by Google. |\n| PyTorch | An open-source machine learning framework developed by Facebook. |\n| Tableau | A data visualization software that allows users to connect, visualize, and share data in real-time. |\n| Apache Hadoop | An open-source software framework used for distributed storage and processing of large datasets. |\n",
      "metadata": {}
    },
    {
      "cell_type": "markdown",
      "source": "## Arithmetic Expression Examples\n\nIn this section, we will cover some basic arithmetic expressions using Python.\n",
      "metadata": {}
    },
    {
      "cell_type": "code",
      "source": "# Multiplication\nx = 5\ny = 10\nz = x * y\nprint(z)\n\n# Addition\na = 20\nb = 30\nc = a + b\nprint(c)\n",
      "metadata": {
        "trusted": true
      },
      "execution_count": 1,
      "outputs": [
        {
          "name": "stdout",
          "text": "50\n50\n",
          "output_type": "stream"
        }
      ]
    },
    {
      "cell_type": "code",
      "source": "# Convert minutes to hours\nminutes = 150\nhours = minutes / 60\nprint(hours)\n",
      "metadata": {
        "trusted": true
      },
      "execution_count": 2,
      "outputs": [
        {
          "name": "stdout",
          "text": "2.5\n",
          "output_type": "stream"
        }
      ]
    },
    {
      "cell_type": "markdown",
      "source": "## Objectives\n\n1. Understand the basics of data science languages, libraries, and tools.\n2. Learn how to use arithmetic expressions in Python.\n3. Convert minutes to hours.\n",
      "metadata": {}
    },
    {
      "cell_type": "markdown",
      "source": "## Author\n\nJessica Wood\n",
      "metadata": {}
    },
    {
      "cell_type": "code",
      "source": "",
      "metadata": {},
      "execution_count": null,
      "outputs": []
    }
  ]
}